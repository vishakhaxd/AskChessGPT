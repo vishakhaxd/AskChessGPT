{
 "cells": [
  {
   "cell_type": "code",
   "execution_count": 7,
   "id": "b380e6b8",
   "metadata": {},
   "outputs": [],
   "source": [
    "import smtplib\n",
    "from email.mime.text import MIMEText\n",
    "from email.mime.multipart import MIMEMultipart\n",
    "import os\n",
    "# ...existing imports..."
   ]
  },
  {
   "cell_type": "code",
   "execution_count": 8,
   "id": "8a4f995f",
   "metadata": {},
   "outputs": [],
   "source": [
    "def send_feedback_email(feedback_data):\n",
    "    \"\"\"Send feedback via email\"\"\"\n",
    "    try:\n",
    "        # Email configuration - add these to your environment variables\n",
    "        smtp_server = \"smtp.gmail.com\"\n",
    "        smtp_port = 587\n",
    "        sender_email = \"ninad.ai.news@gmail.com\"  # Your Gmail\n",
    "        sender_password = \"sazgYs-3rehna-vokmes\"  # Gmail app password\n",
    "        recipient_email = \"ninadnar@buffalo.edu\" # Where you want to receive feedback\n",
    "\n",
    "        if not all([sender_email, sender_password, recipient_email]):\n",
    "            print(\"Email configuration missing\")\n",
    "            return False\n",
    "        \n",
    "        # Create message\n",
    "        message = MIMEMultipart()\n",
    "        message[\"From\"] = sender_email\n",
    "        message[\"To\"] = recipient_email\n",
    "        message[\"Subject\"] = f\"Chess App Feedback: {feedback_data['type']} - {feedback_data['title']}\"\n",
    "        \n",
    "        # Email body\n",
    "        body = f\"\"\"\n",
    "New feedback received from Chess App:\n",
    "\n",
    "Type: {feedback_data['type']}\n",
    "Title: {feedback_data['title']}\n",
    "Message: {feedback_data['message']}\n",
    "Email: {feedback_data.get('email', 'Not provided')}\n",
    "Timestamp: {feedback_data.get('timestamp', 'Unknown')}\n",
    "User Agent: {feedback_data.get('user_agent', 'Unknown')}\n",
    "URL: {feedback_data.get('url', 'Unknown')}\n",
    "        \"\"\"\n",
    "        \n",
    "        message.attach(MIMEText(body, \"plain\"))\n",
    "        \n",
    "        # Send email\n",
    "        with smtplib.SMTP(smtp_server, smtp_port) as server:\n",
    "            server.starttls()\n",
    "            server.login(sender_email, sender_password)\n",
    "            server.sendmail(sender_email, recipient_email, message.as_string())\n",
    "        \n",
    "        print(\"Feedback email sent successfully\")\n",
    "        return True\n",
    "        \n",
    "    except Exception as e:\n",
    "        print(f\"Failed to send email: {e}\")\n",
    "        return False"
   ]
  },
  {
   "cell_type": "code",
   "execution_count": 9,
   "id": "63051e89",
   "metadata": {},
   "outputs": [
    {
     "name": "stdout",
     "output_type": "stream",
     "text": [
      "Failed to send email: (535, b'5.7.8 Username and Password not accepted. For more information, go to\\n5.7.8  https://support.google.com/mail/?p=BadCredentials d2e1a72fcca58-76bccfbd02csm8869492b3a.62 - gsmtp')\n"
     ]
    },
    {
     "data": {
      "text/plain": [
       "False"
      ]
     },
     "execution_count": 9,
     "metadata": {},
     "output_type": "execute_result"
    }
   ],
   "source": [
    "send_feedback_email(feedback_data={\n",
    "    \"type\": \"Bug Report\",\n",
    "    \"title\": \"Issue with move validation\",\n",
    "    \"message\": \"The app does not validate moves correctly in some cases.\",\n",
    "    \"email\": \"user@example.com\",\n",
    "    \"timestamp\": \"2023-10-01T12:00:00Z\",\n",
    "    \"user_agent\": \"Mozilla/5.0 (Windows NT 10.0; Win64; x64) AppleWebKit/537.36 (KHTML, like Gecko) Chrome/85.0.4183.121 Safari/537.36\",\n",
    "    \"url\": \"https://example.com/chess-game\"\n",
    "})"
   ]
  },
  {
   "cell_type": "code",
   "execution_count": null,
   "id": "4a9fb099",
   "metadata": {},
   "outputs": [],
   "source": []
  }
 ],
 "metadata": {
  "kernelspec": {
   "display_name": "Python 3",
   "language": "python",
   "name": "python3"
  },
  "language_info": {
   "codemirror_mode": {
    "name": "ipython",
    "version": 3
   },
   "file_extension": ".py",
   "mimetype": "text/x-python",
   "name": "python",
   "nbconvert_exporter": "python",
   "pygments_lexer": "ipython3",
   "version": "3.11.12"
  }
 },
 "nbformat": 4,
 "nbformat_minor": 5
}
